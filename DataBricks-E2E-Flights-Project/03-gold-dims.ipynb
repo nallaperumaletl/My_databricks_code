{
 "cells": [
  {
   "cell_type": "code",
   "execution_count": 0,
   "metadata": {
    "application/vnd.databricks.v1+cell": {
     "cellMetadata": {
      "byteLimit": 2048000,
      "implicitDf": true,
      "rowLimit": 10000
     },
     "inputWidgets": {},
     "nuid": "ee59768a-69ad-4031-afae-2cd6052d053c",
     "showTitle": false,
     "tableResultSettingsMap": {},
     "title": ""
    }
   },
   "outputs": [],
   "source": [
    "%sql\n",
    "select * from `1_flight_silver`.silver_flights limit 10;"
   ]
  },
  {
   "cell_type": "markdown",
   "metadata": {
    "application/vnd.databricks.v1+cell": {
     "cellMetadata": {},
     "inputWidgets": {},
     "nuid": "ce06fa5c-53ab-413c-adf4-763bdd654a7d",
     "showTitle": false,
     "tableResultSettingsMap": {},
     "title": ""
    }
   },
   "source": [
    "# Parameters"
   ]
  },
  {
   "cell_type": "code",
   "execution_count": 0,
   "metadata": {
    "application/vnd.databricks.v1+cell": {
     "cellMetadata": {
      "byteLimit": 2048000,
      "rowLimit": 10000
     },
     "inputWidgets": {},
     "nuid": "d39b5e2b-8166-424c-a9e8-6ad0dcf2bb3a",
     "showTitle": false,
     "tableResultSettingsMap": {},
     "title": ""
    }
   },
   "outputs": [],
   "source": [
    "# To implementing the dynamic solution, we first considering the parameters\n",
    "\n",
    "# catalog name\n",
    "catalog = 'workspace'\n",
    "\n",
    "# source object\n",
    "source_object = 'silver_flights'\n",
    "\n",
    "# source schema\n",
    "source_schema = '1_flight_silver'\n",
    "\n",
    "# Key col list\n",
    "key_col = \"['flight_id']\"\n",
    "key_col_list = eval(key_col)\n",
    "\n",
    "# cdc col list\n",
    "cdc_col = 'modified_date'\n",
    "\n",
    "# backdated refresh\n",
    "backdated_refresh = ''\n",
    "\n",
    "# target_schema \n",
    "target_schema = '2_flight_gold'\n",
    "\n",
    "target_object = 'flights'\n",
    "\n",
    "# surrogate key\n",
    "surrogate_key = 'DimFlightsKey'"
   ]
  },
  {
   "cell_type": "markdown",
   "metadata": {
    "application/vnd.databricks.v1+cell": {
     "cellMetadata": {},
     "inputWidgets": {},
     "nuid": "2cded6be-141b-4b55-a6c2-97cda99290c4",
     "showTitle": false,
     "tableResultSettingsMap": {},
     "title": ""
    }
   },
   "source": [
    "### **Source Query: Increamental data ingestion**"
   ]
  },
  {
   "cell_type": "code",
   "execution_count": 0,
   "metadata": {
    "application/vnd.databricks.v1+cell": {
     "cellMetadata": {
      "byteLimit": 2048000,
      "rowLimit": 10000
     },
     "inputWidgets": {},
     "nuid": "9daab09b-e44a-4bc9-a331-5c8f9e1271e6",
     "showTitle": false,
     "tableResultSettingsMap": {},
     "title": ""
    }
   },
   "outputs": [],
   "source": [
    "# LAST_LOAD_DATE\n",
    "\n",
    "# No backdated refresh\n",
    "\n",
    "if len(backdated_refresh) == 0:\n",
    "    \n",
    "    # If table exists in the destination\n",
    "    if spark.catalog.tableExists(f'{catalog}.{target_schema}.{target_object}'):\n",
    "        LAST_LOAD = spark.sql(f\"SELECT max({cdc_col}) as LAST_LOAD FROM {target_schema}.{target_object}\").collect()[0][0]\n",
    "        print(LAST_LOAD)\n",
    "    \n",
    "    # if table not exists in the destination\n",
    "    else:\n",
    "        LAST_LOAD = '1900-01-01 00:00:00'\n",
    "# yes, backdated refresh\n",
    "else:\n",
    "    LAST_LOAD = backdated_refresh\n",
    "    \n"
   ]
  },
  {
   "cell_type": "code",
   "execution_count": 0,
   "metadata": {
    "application/vnd.databricks.v1+cell": {
     "cellMetadata": {
      "byteLimit": 2048000,
      "rowLimit": 10000
     },
     "inputWidgets": {},
     "nuid": "1982c982-a5b8-4c9f-ae64-7de2e9e50a4c",
     "showTitle": false,
     "tableResultSettingsMap": {},
     "title": ""
    }
   },
   "outputs": [],
   "source": [
    "\n",
    "LAST_LOAD\n",
    "\n",
    "# because in intial load in gold layer there is no table and no data so by default the backled date will be this defined 1900-01-01 to fetch tha all record from the beginning\n",
    "\n",
    "# UNDERSTAND BRO!"
   ]
  },
  {
   "cell_type": "code",
   "execution_count": 0,
   "metadata": {
    "application/vnd.databricks.v1+cell": {
     "cellMetadata": {
      "byteLimit": 2048000,
      "rowLimit": 10000
     },
     "inputWidgets": {},
     "nuid": "6277f84a-5b66-4563-b08d-34ad41c8069d",
     "showTitle": false,
     "tableResultSettingsMap": {},
     "title": ""
    }
   },
   "outputs": [],
   "source": [
    "\n",
    "df_src = spark.sql(f\"\"\"  SELECT * FROM {catalog}.{source_schema}.{source_object} \n",
    "                WHERE {cdc_col} >= '{LAST_LOAD}'\n",
    "          \"\"\")\n",
    "\n",
    "df_src.display()          "
   ]
  },
  {
   "cell_type": "code",
   "execution_count": 0,
   "metadata": {
    "application/vnd.databricks.v1+cell": {
     "cellMetadata": {
      "byteLimit": 2048000,
      "rowLimit": 10000
     },
     "inputWidgets": {},
     "nuid": "c9e79ad1-c799-4415-9e5e-764aef0ae75c",
     "showTitle": false,
     "tableResultSettingsMap": {},
     "title": ""
    }
   },
   "outputs": [],
   "source": [
    "from pyspark.sql.functions import *\n",
    "from pyspark.sql.types import *"
   ]
  },
  {
   "cell_type": "markdown",
   "metadata": {
    "application/vnd.databricks.v1+cell": {
     "cellMetadata": {},
     "inputWidgets": {},
     "nuid": "f4582abc-b263-43f8-b199-5e083ca8f80d",
     "showTitle": false,
     "tableResultSettingsMap": {},
     "title": ""
    }
   },
   "source": [
    "### OLD Vs NEW Records"
   ]
  },
  {
   "cell_type": "markdown",
   "metadata": {
    "application/vnd.databricks.v1+cell": {
     "cellMetadata": {},
     "inputWidgets": {},
     "nuid": "e4b245fa-8697-457e-977e-713e3ac3f443",
     "showTitle": false,
     "tableResultSettingsMap": {},
     "title": ""
    }
   },
   "source": [
    "#### list comprehension"
   ]
  },
  {
   "cell_type": "code",
   "execution_count": 0,
   "metadata": {
    "application/vnd.databricks.v1+cell": {
     "cellMetadata": {
      "byteLimit": 2048000,
      "rowLimit": 10000
     },
     "inputWidgets": {},
     "nuid": "b1758561-5643-4694-83bc-6e2e8deeb09b",
     "showTitle": false,
     "tableResultSettingsMap": {},
     "title": ""
    }
   },
   "outputs": [],
   "source": [
    "key_col_string_incremental = ', '.join(key_col_list)\n",
    "key_col_string_incremental"
   ]
  },
  {
   "cell_type": "code",
   "execution_count": 0,
   "metadata": {
    "application/vnd.databricks.v1+cell": {
     "cellMetadata": {
      "byteLimit": 2048000,
      "rowLimit": 10000
     },
     "inputWidgets": {},
     "nuid": "5897780e-dbae-4170-ba91-f9858787afd1",
     "showTitle": false,
     "tableResultSettingsMap": {},
     "title": ""
    }
   },
   "outputs": [],
   "source": [
    "key_col_string_init = [f\"'' as {i}\"for i in key_col_list ]\n",
    "print(key_col_string_init)\n",
    "key_col_string_initial = ', '.join(key_col_string_init)\n",
    "print(key_col_string_initial)\n"
   ]
  },
  {
   "cell_type": "code",
   "execution_count": 0,
   "metadata": {
    "application/vnd.databricks.v1+cell": {
     "cellMetadata": {
      "byteLimit": 2048000,
      "rowLimit": 10000
     },
     "inputWidgets": {},
     "nuid": "91ead5fd-c961-42af-bc52-689a361345bb",
     "showTitle": true,
     "tableResultSettingsMap": {},
     "title": "to_test we written this code"
    }
   },
   "outputs": [],
   "source": [
    "spark.sql(f\"\"\"SELECT {key_col_string_initial}, '' as {surrogate_key} , \n",
    "                        CAST('1900-01-01 00:00:00' AS timestamp) as created_date, \n",
    "                        CAST('1900-01-01 00:00:00' AS timestamp) as updated_date\n",
    "                from {catalog}.{source_schema}.{source_object}\"\"\")"
   ]
  },
  {
   "cell_type": "code",
   "execution_count": 0,
   "metadata": {
    "application/vnd.databricks.v1+cell": {
     "cellMetadata": {
      "byteLimit": 2048000,
      "rowLimit": 10000
     },
     "inputWidgets": {},
     "nuid": "4c9121f9-cee8-4326-add8-7cc00fe391e3",
     "showTitle": false,
     "tableResultSettingsMap": {},
     "title": ""
    }
   },
   "outputs": [],
   "source": [
    "if spark.catalog.tableExists(f'workspace.{target_schema}.{target_object}'):\n",
    "\n",
    "    # KEY COL STRING for incremental:\n",
    "    key_col_string_incremental = ', '.join(key_col_list)\n",
    "    # creating sudo column\n",
    "\n",
    "    df_tgt = spark.sql(f\"SELECT {key_col_string_incremental} , {surrogate_key}, created_date, updated_date FROM workspace.{target_schema}.{target_object}\")\n",
    "    \n",
    "else:\n",
    "    # KEY COL STRING for Initial:\n",
    "    key_col_string_init = [f\"'' as {i}\"for i in key_col_list ]\n",
    "    #print(key_col_string_init)\n",
    "    key_col_string_initial = ', '.join(key_col_string_init)\n",
    "    print(key_col_string_initial)\n",
    "\n",
    "    df_tgt = spark.sql(f\"\"\"SELECT {key_col_string_initial}, '' as {surrogate_key} , \n",
    "                            CAST('1900-01-01 00:00:00' AS timestamp) as created_date,\n",
    "                            CAST('1900-01-01 00:00:00' AS timestamp) as updated_date \n",
    "                            WHERE 1=0\n",
    "                            \"\"\")"
   ]
  },
  {
   "cell_type": "code",
   "execution_count": 0,
   "metadata": {
    "application/vnd.databricks.v1+cell": {
     "cellMetadata": {
      "byteLimit": 2048000,
      "rowLimit": 10000
     },
     "inputWidgets": {},
     "nuid": "f9f6e8c1-fa6f-4960-8410-1e17364cdecf",
     "showTitle": false,
     "tableResultSettingsMap": {
      "0": {
       "dataGridStateBlob": "{\"version\":1,\"tableState\":{\"columnPinning\":{\"left\":[\"#row_number#\"],\"right\":[]},\"columnSizing\":{},\"columnVisibility\":{}},\"settings\":{\"columns\":{}},\"syncTimestamp\":1752167826358}",
       "filterBlob": null,
       "queryPlanFiltersBlob": null,
       "tableResultIndex": 0
      }
     },
     "title": ""
    }
   },
   "outputs": [],
   "source": [
    "df_tgt.display()"
   ]
  },
  {
   "cell_type": "code",
   "execution_count": 0,
   "metadata": {
    "application/vnd.databricks.v1+cell": {
     "cellMetadata": {
      "byteLimit": 2048000,
      "rowLimit": 10000
     },
     "inputWidgets": {},
     "nuid": "e808e73b-44ac-4ea4-9862-34e5b68aba99",
     "showTitle": false,
     "tableResultSettingsMap": {},
     "title": ""
    }
   },
   "outputs": [],
   "source": [
    "key_col_list = ['flight_id', 'flight_name']"
   ]
  },
  {
   "cell_type": "markdown",
   "metadata": {
    "application/vnd.databricks.v1+cell": {
     "cellMetadata": {},
     "inputWidgets": {},
     "nuid": "54ec8efb-7997-4a05-8138-0cf5bb2d7925",
     "showTitle": false,
     "tableResultSettingsMap": {},
     "title": ""
    }
   },
   "source": [
    "**JOIN CONDITION**"
   ]
  },
  {
   "cell_type": "code",
   "execution_count": 0,
   "metadata": {
    "application/vnd.databricks.v1+cell": {
     "cellMetadata": {
      "byteLimit": 2048000,
      "rowLimit": 10000
     },
     "inputWidgets": {},
     "nuid": "1ef03fa4-8dfd-48c2-b7a4-fdee69039da7",
     "showTitle": false,
     "tableResultSettingsMap": {},
     "title": ""
    }
   },
   "outputs": [],
   "source": [
    "key_col_list_join_cond = [f\"src.{i} = tgt.{i}\" for i in key_col_list]\n",
    "key_col_list_join_cond = ' AND '.join(key_col_list_join_cond)\n",
    "key_col_list_join_cond"
   ]
  },
  {
   "cell_type": "code",
   "execution_count": 0,
   "metadata": {
    "application/vnd.databricks.v1+cell": {
     "cellMetadata": {
      "byteLimit": 2048000,
      "rowLimit": 10000
     },
     "inputWidgets": {},
     "nuid": "1071cefa-993f-4077-bb5b-a726850af265",
     "showTitle": false,
     "tableResultSettingsMap": {},
     "title": ""
    }
   },
   "outputs": [],
   "source": [
    "df_src.createOrReplaceTempView('src')\n",
    "df_tgt.createOrReplaceTempView('tgt')\n",
    "\n",
    "df_join = spark.sql(f\"\"\"\n",
    "          SELECT src.*,\n",
    "                 tgt.{surrogate_key} as {surrogate_key},\n",
    "                 tgt.created_date,\n",
    "                 tgt.updated_date\n",
    "          FROM src\n",
    "          LEFT JOIN tgt\n",
    "          ON {key_col_list_join_cond}\n",
    "          \"\"\")"
   ]
  },
  {
   "cell_type": "code",
   "execution_count": 0,
   "metadata": {
    "application/vnd.databricks.v1+cell": {
     "cellMetadata": {
      "byteLimit": 2048000,
      "rowLimit": 10000
     },
     "inputWidgets": {},
     "nuid": "51fd976c-8e62-4dfd-8272-5076fb9e3450",
     "showTitle": false,
     "tableResultSettingsMap": {},
     "title": ""
    }
   },
   "outputs": [],
   "source": [
    "df_join.display()"
   ]
  },
  {
   "cell_type": "code",
   "execution_count": 0,
   "metadata": {
    "application/vnd.databricks.v1+cell": {
     "cellMetadata": {
      "byteLimit": 2048000,
      "rowLimit": 10000
     },
     "inputWidgets": {},
     "nuid": "feb8aa2e-65ee-425f-9184-79c9b6d23faf",
     "showTitle": false,
     "tableResultSettingsMap": {},
     "title": ""
    }
   },
   "outputs": [],
   "source": [
    "# if the dimFlightKey is null which means its a new record, it it has some value it means its old record which needs to update\n",
    "\n",
    "# OLD RECORDS\n",
    "df_old = df_join.filter(col(f'{surrogate_key}').isNotNull())\n",
    "\n",
    "# NEW RECORDS\n",
    "df_new = df_join.filter(col(f'{surrogate_key}').isNull())\n"
   ]
  },
  {
   "cell_type": "code",
   "execution_count": 0,
   "metadata": {
    "application/vnd.databricks.v1+cell": {
     "cellMetadata": {
      "byteLimit": 2048000,
      "rowLimit": 10000
     },
     "inputWidgets": {},
     "nuid": "82b20fac-910a-43e4-922c-bd308e5e879e",
     "showTitle": false,
     "tableResultSettingsMap": {},
     "title": ""
    }
   },
   "outputs": [],
   "source": [
    "df_old.display()\n",
    "df_new.display()"
   ]
  },
  {
   "cell_type": "markdown",
   "metadata": {
    "application/vnd.databricks.v1+cell": {
     "cellMetadata": {},
     "inputWidgets": {},
     "nuid": "bb565577-88b0-4571-8366-80e72635fe0c",
     "showTitle": false,
     "tableResultSettingsMap": {},
     "title": ""
    }
   },
   "source": [
    "# **Preparing `df_old` :  old record**"
   ]
  },
  {
   "cell_type": "code",
   "execution_count": 0,
   "metadata": {
    "application/vnd.databricks.v1+cell": {
     "cellMetadata": {
      "byteLimit": 2048000,
      "rowLimit": 10000
     },
     "inputWidgets": {},
     "nuid": "b90311ef-6fb3-4026-9b2a-241dfe9189d2",
     "showTitle": false,
     "tableResultSettingsMap": {},
     "title": ""
    }
   },
   "outputs": [],
   "source": [
    "# we need to keep as it is from source and simpley update this updated_date column\n",
    "\n",
    "df_old_enriched = df_old.withColumn('updated_date', current_timestamp())\n",
    "df_old_enriched.display()"
   ]
  },
  {
   "cell_type": "markdown",
   "metadata": {
    "application/vnd.databricks.v1+cell": {
     "cellMetadata": {},
     "inputWidgets": {},
     "nuid": "6c85e8d3-a6a9-4bee-ba67-45e143920743",
     "showTitle": false,
     "tableResultSettingsMap": {},
     "title": ""
    }
   },
   "source": [
    "# **Preparing `df_new` :  for new record**"
   ]
  },
  {
   "cell_type": "code",
   "execution_count": 0,
   "metadata": {
    "application/vnd.databricks.v1+cell": {
     "cellMetadata": {
      "byteLimit": 2048000,
      "rowLimit": 10000
     },
     "inputWidgets": {},
     "nuid": "f5c5bb9c-0a69-4564-9b7b-50c62220f961",
     "showTitle": true,
     "tableResultSettingsMap": {},
     "title": "to_test for below code"
    }
   },
   "outputs": [],
   "source": [
    "# for initial load we need to populate the surrogate key, created_date \n",
    "\n",
    "df_new_enriched = df_new.withColumn(surrogate_key, monotonically_increasing_id()) \\\n",
    "                        .withColumn('created_date', current_timestamp()) \\\n",
    "                        .withColumn('updated_date', current_timestamp())\n",
    "df_new_enriched.display()\n"
   ]
  },
  {
   "cell_type": "code",
   "execution_count": 0,
   "metadata": {
    "application/vnd.databricks.v1+cell": {
     "cellMetadata": {
      "byteLimit": 2048000,
      "rowLimit": 10000
     },
     "inputWidgets": {},
     "nuid": "857de76a-07ae-4f86-bf27-e5f6a394da01",
     "showTitle": true,
     "tableResultSettingsMap": {},
     "title": "to_test for below code"
    }
   },
   "outputs": [],
   "source": [
    "spark.sql(f'SELECT max({surrogate_key}) as max_surrogate_key FROM workspace.{target_schema}.{target_object}').collect()[0][0]"
   ]
  },
  {
   "cell_type": "code",
   "execution_count": 0,
   "metadata": {
    "application/vnd.databricks.v1+cell": {
     "cellMetadata": {
      "byteLimit": 2048000,
      "rowLimit": 10000
     },
     "inputWidgets": {},
     "nuid": "acbe81c6-cab3-4474-8dc9-7808ac8cc24e",
     "showTitle": false,
     "tableResultSettingsMap": {},
     "title": ""
    }
   },
   "outputs": [],
   "source": [
    "if spark.catalog.tableExists(f\"{catalog}.{target_schema}.{target_object}\"):\n",
    "    max_surrogate_key = spark.sql(f\"\"\"\n",
    "                                  SELECT max({surrogate_key}) as max_surrogate_key \n",
    "                                  FROM workspace.{target_schema}.{target_object}\n",
    "                                  \"\"\").collect()[0][0]\n",
    "else:\n",
    "    max_surrogate_key = 0\n",
    "\n",
    "    df_new_enr = df_new.withColumn(f'{surrogate_key}', lit(max_surrogate_key) + lit(1) + monotonically_increasing_id()) \\\n",
    "                   .withColumn('created_date', current_timestamp()) \\\n",
    "                   .withColumn('updated_date', current_timestamp())\n",
    "    \n"
   ]
  },
  {
   "cell_type": "code",
   "execution_count": 0,
   "metadata": {
    "application/vnd.databricks.v1+cell": {
     "cellMetadata": {
      "byteLimit": 2048000,
      "rowLimit": 10000
     },
     "inputWidgets": {},
     "nuid": "ac7421ae-bbe3-4fc3-8ab2-fc7fa3ade1c8",
     "showTitle": false,
     "tableResultSettingsMap": {},
     "title": ""
    }
   },
   "outputs": [],
   "source": [
    "df_new_enr.display()"
   ]
  },
  {
   "cell_type": "code",
   "execution_count": 0,
   "metadata": {
    "application/vnd.databricks.v1+cell": {
     "cellMetadata": {},
     "inputWidgets": {},
     "nuid": "a6772715-481e-4540-801b-84dfa188f921",
     "showTitle": false,
     "tableResultSettingsMap": {},
     "title": ""
    }
   },
   "outputs": [],
   "source": []
  }
 ],
 "metadata": {
  "application/vnd.databricks.v1+notebook": {
   "computePreferences": null,
   "dashboards": [],
   "environmentMetadata": {
    "base_environment": "",
    "environment_version": "2"
   },
   "inputWidgetPreferences": null,
   "language": "python",
   "notebookMetadata": {
    "mostRecentlyExecutedCommandWithImplicitDF": {
     "commandId": 6935331381153070,
     "dataframes": [
      "_sqldf"
     ]
    },
    "pythonIndentUnit": 4
   },
   "notebookName": "03-gold-dims",
   "widgets": {
    "backdated_refresh": {
     "currentValue": "",
     "nuid": "366883a9-ad65-42ba-bc09-03aee4b8fa53",
     "typedWidgetInfo": {
      "autoCreated": false,
      "defaultValue": "",
      "label": null,
      "name": "backdated_refresh",
      "options": {
       "widgetDisplayType": "Text",
       "validationRegex": null
      },
      "parameterDataType": "String"
     },
     "widgetInfo": {
      "widgetType": "text",
      "defaultValue": "",
      "label": null,
      "name": "backdated_refresh",
      "options": {
       "widgetType": "text",
       "autoCreated": null,
       "validationRegex": null
      }
     }
    },
    "cdc_cols": {
     "currentValue": "",
     "nuid": "792be22b-f74d-46b4-9c89-4586bbb785b2",
     "typedWidgetInfo": {
      "autoCreated": false,
      "defaultValue": "",
      "label": null,
      "name": "cdc_cols",
      "options": {
       "widgetDisplayType": "Text",
       "validationRegex": null
      },
      "parameterDataType": "String"
     },
     "widgetInfo": {
      "widgetType": "text",
      "defaultValue": "",
      "label": null,
      "name": "cdc_cols",
      "options": {
       "widgetType": "text",
       "autoCreated": null,
       "validationRegex": null
      }
     }
    },
    "key_cols": {
     "currentValue": "[\"flight_id\"]",
     "nuid": "2178dfa9-7d87-4b5b-9a77-66f005cc9060",
     "typedWidgetInfo": {
      "autoCreated": false,
      "defaultValue": "",
      "label": null,
      "name": "key_cols",
      "options": {
       "widgetDisplayType": "Text",
       "validationRegex": null
      },
      "parameterDataType": "String"
     },
     "widgetInfo": {
      "widgetType": "text",
      "defaultValue": "",
      "label": null,
      "name": "key_cols",
      "options": {
       "widgetType": "text",
       "autoCreated": null,
       "validationRegex": null
      }
     }
    },
    "source_object": {
     "currentValue": "",
     "nuid": "5d29d9e4-ce26-4c22-a0e4-2428f3090747",
     "typedWidgetInfo": {
      "autoCreated": false,
      "defaultValue": "",
      "label": null,
      "name": "source_object",
      "options": {
       "widgetDisplayType": "Text",
       "validationRegex": null
      },
      "parameterDataType": "String"
     },
     "widgetInfo": {
      "widgetType": "text",
      "defaultValue": "",
      "label": null,
      "name": "source_object",
      "options": {
       "widgetType": "text",
       "autoCreated": false,
       "validationRegex": null
      }
     }
    },
    "source_schema": {
     "currentValue": "",
     "nuid": "5fce6e0a-62bc-4ee1-9c21-70cdf5a8a38a",
     "typedWidgetInfo": {
      "autoCreated": false,
      "defaultValue": "",
      "label": null,
      "name": "source_schema",
      "options": {
       "widgetDisplayType": "Text",
       "validationRegex": null
      },
      "parameterDataType": "String"
     },
     "widgetInfo": {
      "widgetType": "text",
      "defaultValue": "",
      "label": null,
      "name": "source_schema",
      "options": {
       "widgetType": "text",
       "autoCreated": false,
       "validationRegex": null
      }
     }
    }
   }
  },
  "language_info": {
   "name": "python"
  }
 },
 "nbformat": 4,
 "nbformat_minor": 0
}
