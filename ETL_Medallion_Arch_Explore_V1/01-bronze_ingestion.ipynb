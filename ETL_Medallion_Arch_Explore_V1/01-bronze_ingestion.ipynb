{
 "cells": [
  {
   "cell_type": "code",
   "execution_count": 0,
   "metadata": {
    "application/vnd.databricks.v1+cell": {
     "cellMetadata": {
      "byteLimit": 2048000,
      "implicitDf": true,
      "rowLimit": 10000
     },
     "inputWidgets": {},
     "nuid": "edea3d70-9a3e-4ef7-968c-7ac4059500dd",
     "showTitle": false,
     "tableResultSettingsMap": {},
     "title": ""
    }
   },
   "outputs": [],
   "source": [
    "%sql\n",
    "show catalogs;"
   ]
  },
  {
   "cell_type": "code",
   "execution_count": 0,
   "metadata": {
    "application/vnd.databricks.v1+cell": {
     "cellMetadata": {
      "byteLimit": 2048000,
      "implicitDf": true,
      "rowLimit": 10000
     },
     "inputWidgets": {},
     "nuid": "1ed881a8-6aec-44cb-bdcc-189207e1ce4a",
     "showTitle": false,
     "tableResultSettingsMap": {},
     "title": ""
    }
   },
   "outputs": [],
   "source": [
    "%sql\n",
    "SHOW SCHEMAS IN dev;\n",
    "\n",
    "-- # OR\n",
    "-- SHOW DATABASES IN dev;"
   ]
  },
  {
   "cell_type": "code",
   "execution_count": 0,
   "metadata": {
    "application/vnd.databricks.v1+cell": {
     "cellMetadata": {
      "byteLimit": 2048000,
      "rowLimit": 10000
     },
     "inputWidgets": {},
     "nuid": "5c450ea6-1db8-4fe4-93e5-5446918d1977",
     "showTitle": false,
     "tableResultSettingsMap": {},
     "title": ""
    }
   },
   "outputs": [],
   "source": [
    "# PARAMETERS:\n",
    "\n",
    "catalog = 'dev'\n",
    "\n",
    "# Schemas\n",
    "bronze_db = 'db1_bronze_raw'\n",
    "silver_db = 'db1_silver'\n",
    "gold_db = 'db1_gold'\n",
    "\n",
    "# Table\n",
    "trans_tbl = 'transactions'"
   ]
  },
  {
   "cell_type": "code",
   "execution_count": 0,
   "metadata": {
    "application/vnd.databricks.v1+cell": {
     "cellMetadata": {
      "byteLimit": 2048000,
      "rowLimit": 10000
     },
     "inputWidgets": {},
     "nuid": "af003a2c-a8ee-41c6-b4b2-76b264e8954b",
     "showTitle": false,
     "tableResultSettingsMap": {},
     "title": ""
    }
   },
   "outputs": [],
   "source": [
    "%fs\n",
    "ls s3://s3-de-bucket/databricks_source"
   ]
  },
  {
   "cell_type": "code",
   "execution_count": 0,
   "metadata": {
    "application/vnd.databricks.v1+cell": {
     "cellMetadata": {
      "byteLimit": 2048000,
      "rowLimit": 10000
     },
     "inputWidgets": {},
     "nuid": "423e771d-fac9-4249-866e-6b53164dcf67",
     "showTitle": false,
     "tableResultSettingsMap": {},
     "title": ""
    }
   },
   "outputs": [],
   "source": [
    "# access_key = 'xxxxx'\n",
    "# secret_key = 'xx/xx'\n",
    "# aws_bucket_name = \"s3-de-bucket\"\n",
    "\n",
    "\n",
    "# csv_path = f\"s3a://{access_key}:{secret_key}@{aws_bucket_name}/databricks_source/csv/\"\n",
    "# json_path = f\"s3a://{access_key}:{secret_key}@{aws_bucket_name}/databricks_source/json/\"\n",
    "# parquet_path = f\"s3a://{access_key}:{secret_key}@{aws_bucket_name}/databricks_source/parquet/\"\n",
    "\n",
    "csv_path = 's3://s3-de-bucket/databricks_source/csv/'\n",
    "json_path = 's3://s3-de-bucket/databricks_source/json/'\n",
    "parquet_path = 's3://s3-de-bucket/databricks_source/parquet/'"
   ]
  },
  {
   "cell_type": "code",
   "execution_count": 0,
   "metadata": {
    "application/vnd.databricks.v1+cell": {
     "cellMetadata": {
      "byteLimit": 2048000,
      "rowLimit": 10000
     },
     "inputWidgets": {},
     "nuid": "a058cc83-e5f9-4c1b-8cbc-8d20090862fa",
     "showTitle": false,
     "tableResultSettingsMap": {},
     "title": ""
    }
   },
   "outputs": [],
   "source": [
    "from pyspark.sql.functions import col, to_date, year\n",
    "from pyspark.sql.types import StructType, StructField, StringType, IntegerType, DoubleType, DateType\n",
    "\n",
    "schema = StructType([\n",
    "    StructField(\"Transaction_ID\", StringType(), True),\n",
    "    StructField(\"Transaction_Date\", StringType(), True),\n",
    "    StructField(\"Transaction_Amount\", DoubleType(), True),\n",
    "    StructField(\"Transaction_Status\", StringType(), True),\n",
    "    StructField(\"Transaction_Type\", StringType(), True),\n",
    "    StructField(\"Customer_ID\", StringType(), True),\n",
    "    StructField(\"Customer_Name\", StringType(), True),\n",
    "    StructField(\"Gender\", StringType(), True),\n",
    "    StructField(\"DOB\", StringType(), True),\n",
    "    StructField(\"Email\", StringType(), True),\n",
    "    StructField(\"Phone\", StringType(), True),\n",
    "    StructField(\"Customer_City\", StringType(), True),\n",
    "    StructField(\"Card_ID\", StringType(), True),\n",
    "    StructField(\"Card_Type\", StringType(), True),\n",
    "    StructField(\"Issuer_Bank\", StringType(), True),\n",
    "    StructField(\"Card_Tier\", StringType(), True),\n",
    "    StructField(\"Expiry_Date\", StringType(), True),\n",
    "    StructField(\"Merchant_ID\", StringType(), True),\n",
    "    StructField(\"Merchant_Name\", StringType(), True),\n",
    "    StructField(\"Merchant_Category\", StringType(), True),\n",
    "    StructField(\"Merchant_Country\", StringType(), True),\n",
    "    StructField(\"Location_ID\", StringType(), True),\n",
    "    StructField(\"City\", StringType(), True),\n",
    "    StructField(\"State\", StringType(), True),\n",
    "    StructField(\"Country\", StringType(), True)\n",
    "])"
   ]
  },
  {
   "cell_type": "code",
   "execution_count": 0,
   "metadata": {
    "application/vnd.databricks.v1+cell": {
     "cellMetadata": {
      "byteLimit": 2048000,
      "rowLimit": 10000
     },
     "inputWidgets": {},
     "nuid": "0cf00308-71d9-4228-8079-93d5750ac265",
     "showTitle": false,
     "tableResultSettingsMap": {},
     "title": ""
    }
   },
   "outputs": [],
   "source": [
    "csv_df = spark.read.option(\"header\", True).schema(schema).csv(csv_path)\n",
    "csv_df.display()"
   ]
  },
  {
   "cell_type": "code",
   "execution_count": 0,
   "metadata": {
    "application/vnd.databricks.v1+cell": {
     "cellMetadata": {
      "byteLimit": 2048000,
      "rowLimit": 10000
     },
     "inputWidgets": {},
     "nuid": "37120f23-6c21-4c98-a207-e664a1a7d9e6",
     "showTitle": false,
     "tableResultSettingsMap": {},
     "title": ""
    }
   },
   "outputs": [],
   "source": [
    "json_df = spark.read.option(\"multiline\", True).json(json_path)\n",
    "json_df.display()"
   ]
  },
  {
   "cell_type": "code",
   "execution_count": 0,
   "metadata": {
    "application/vnd.databricks.v1+cell": {
     "cellMetadata": {
      "byteLimit": 2048000,
      "rowLimit": 10000
     },
     "inputWidgets": {},
     "nuid": "bf45ae0b-ed12-4c84-b630-361c83b82e9f",
     "showTitle": false,
     "tableResultSettingsMap": {},
     "title": ""
    }
   },
   "outputs": [],
   "source": [
    "parquet_df = spark.read.schema(schema).parquet(parquet_path)\n",
    "parquet_df.display()"
   ]
  },
  {
   "cell_type": "code",
   "execution_count": 0,
   "metadata": {
    "application/vnd.databricks.v1+cell": {
     "cellMetadata": {
      "byteLimit": 2048000,
      "rowLimit": 10000
     },
     "inputWidgets": {},
     "nuid": "0ed2a5c8-10b0-44c6-87c0-c40b4a733e62",
     "showTitle": false,
     "tableResultSettingsMap": {},
     "title": ""
    }
   },
   "outputs": [],
   "source": [
    "schema_cols = [\n",
    "    \"Transaction_ID\", \"Customer_ID\", \"Card_ID\", \"Merchant_ID\", \"Location_ID\",\n",
    "    \"Transaction_Date\", \"DOB\", \"Expiry_Date\",\n",
    "    \"Customer_Name\", \"Gender\", \"Email\", \"Phone\", \"Customer_City\",\n",
    "    \"Card_Type\", \"Issuer_Bank\", \"Card_Tier\",\n",
    "     \"Transaction_Status\", \"Transaction_Type\", \"Transaction_Amount\",\n",
    "    \"Merchant_Name\", \"Merchant_Category\", \"Merchant_Country\",\n",
    "    \"City\", \"State\", \"Country\"\n",
    "]\n",
    "\n",
    "def align(df):\n",
    "    return df.select([ col(c) for c in schema_cols ])"
   ]
  },
  {
   "cell_type": "code",
   "execution_count": 0,
   "metadata": {
    "application/vnd.databricks.v1+cell": {
     "cellMetadata": {
      "byteLimit": 2048000,
      "rowLimit": 10000
     },
     "inputWidgets": {},
     "nuid": "2ed3c13d-001c-4be7-8c5a-0a51720783e3",
     "showTitle": false,
     "tableResultSettingsMap": {},
     "title": ""
    }
   },
   "outputs": [],
   "source": [
    "print(\"CSV Column Allignment\")\n",
    "csv_df = align(csv_df)\n",
    "csv_df.display()\n",
    "\n",
    "print(\"JSON Column Allignment\")\n",
    "json_df = align(json_df)\n",
    "json_df.display()\n",
    "\n",
    "print(\"PARQUET Column Allignment\")\n",
    "parquet_df = align(parquet_df)\n",
    "parquet_df.display()"
   ]
  },
  {
   "cell_type": "code",
   "execution_count": 0,
   "metadata": {
    "application/vnd.databricks.v1+cell": {
     "cellMetadata": {
      "byteLimit": 2048000,
      "rowLimit": 10000
     },
     "inputWidgets": {},
     "nuid": "996be865-20ed-491d-96f9-a34543d1c560",
     "showTitle": false,
     "tableResultSettingsMap": {},
     "title": ""
    }
   },
   "outputs": [],
   "source": [
    "# Combining all diff structured DF in to one df (UNION)\n",
    "\n",
    "combined_df = csv_df.union(json_df).union(parquet_df)\n",
    "combined_df.display()\n",
    "\n"
   ]
  },
  {
   "cell_type": "code",
   "execution_count": 0,
   "metadata": {
    "application/vnd.databricks.v1+cell": {
     "cellMetadata": {
      "byteLimit": 2048000,
      "rowLimit": 10000
     },
     "inputWidgets": {},
     "nuid": "53337432-4a3d-4ca2-8bfe-fc5f5ce7648c",
     "showTitle": false,
     "tableResultSettingsMap": {},
     "title": ""
    }
   },
   "outputs": [],
   "source": [
    "combined_df = combined_df.withColumn(\"Year\", year(to_date(col(\"Transaction_Date\"))))"
   ]
  },
  {
   "cell_type": "code",
   "execution_count": 0,
   "metadata": {
    "application/vnd.databricks.v1+cell": {
     "cellMetadata": {
      "byteLimit": 2048000,
      "rowLimit": 10000
     },
     "inputWidgets": {},
     "nuid": "d891b2df-5c0c-4296-9dac-8b17d4a4a5ed",
     "showTitle": false,
     "tableResultSettingsMap": {},
     "title": ""
    }
   },
   "outputs": [],
   "source": [
    "partition_df = combined_df.repartition(\"Year\")\n",
    "\n",
    "partition_df.write.partitionBy(\"Year\").mode(\"overwrite\").saveAsTable(f\"{catalog}.{bronze_db}.{trans_tbl}\")"
   ]
  },
  {
   "cell_type": "code",
   "execution_count": 0,
   "metadata": {
    "application/vnd.databricks.v1+cell": {
     "cellMetadata": {
      "byteLimit": 2048000,
      "rowLimit": 10000
     },
     "inputWidgets": {},
     "nuid": "4c17af33-a62d-4ffa-a4e8-1e581b0698d9",
     "showTitle": false,
     "tableResultSettingsMap": {},
     "title": ""
    }
   },
   "outputs": [],
   "source": [
    "# dbutils.widgets.text(\"catalog\", \"dev\")\n",
    "# dbutils.widgets.text(\"bronze_db\", \"db1_bronze_raw\")\n",
    "# dbutils.widgets.text(\"trans_tbl\", \"transactions\")\n"
   ]
  },
  {
   "cell_type": "code",
   "execution_count": 0,
   "metadata": {
    "application/vnd.databricks.v1+cell": {
     "cellMetadata": {
      "byteLimit": 2048000,
      "implicitDf": true,
      "rowLimit": 10000
     },
     "inputWidgets": {},
     "nuid": "40f8762e-d1a7-4b32-af94-aa4fcce1baaa",
     "showTitle": false,
     "tableResultSettingsMap": {},
     "title": ""
    }
   },
   "outputs": [],
   "source": [
    "%sql\n",
    "\n",
    "SELECT * FROM dev.db1_bronze_raw.transactions LIMIT 10;\n",
    "\n"
   ]
  }
 ],
 "metadata": {
  "application/vnd.databricks.v1+notebook": {
   "computePreferences": null,
   "dashboards": [],
   "environmentMetadata": {
    "base_environment": "",
    "environment_version": "2"
   },
   "inputWidgetPreferences": null,
   "language": "python",
   "notebookMetadata": {
    "mostRecentlyExecutedCommandWithImplicitDF": {
     "commandId": 5283486977222996,
     "dataframes": [
      "_sqldf"
     ]
    },
    "pythonIndentUnit": 4,
    "widgetLayout": []
   },
   "notebookName": "01-bronze_ingestion",
   "widgets": {}
  },
  "language_info": {
   "name": "python"
  }
 },
 "nbformat": 4,
 "nbformat_minor": 0
}
