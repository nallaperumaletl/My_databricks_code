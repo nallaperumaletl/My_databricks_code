{
 "cells": [
  {
   "cell_type": "code",
   "execution_count": 0,
   "metadata": {
    "application/vnd.databricks.v1+cell": {
     "cellMetadata": {
      "byteLimit": 2048000,
      "rowLimit": 10000
     },
     "inputWidgets": {},
     "nuid": "9a07a8a8-56c3-4407-8141-f826e99af70b",
     "showTitle": false,
     "tableResultSettingsMap": {},
     "title": ""
    }
   },
   "outputs": [],
   "source": [
    "# PARAMETERS:\n",
    "\n",
    "catalog = 'dev'\n",
    "\n",
    "# Schemas\n",
    "bronze_db = 'db1_bronze_raw'\n",
    "silver_db = 'db1_silver'\n",
    "gold_db = 'db1_gold'\n",
    "\n",
    "# Table\n",
    "trans_tbl = 'transactions'\n",
    "\n",
    "cleaned_tbl = 'clean_transactions'"
   ]
  },
  {
   "cell_type": "code",
   "execution_count": 0,
   "metadata": {
    "application/vnd.databricks.v1+cell": {
     "cellMetadata": {
      "byteLimit": 2048000,
      "rowLimit": 10000
     },
     "inputWidgets": {},
     "nuid": "42284f64-d4cb-4b9f-9877-ee3dc06c5eeb",
     "showTitle": false,
     "tableResultSettingsMap": {},
     "title": ""
    }
   },
   "outputs": [],
   "source": [
    "\n",
    "from pyspark.sql import SparkSession\n",
    "\n",
    "from pyspark.sql.functions import (\n",
    "    col, initcap, trim, lower, upper, regexp_replace, regexp_extract,\n",
    "    when, to_date, lit, current_date, datediff, length, concat_ws\n",
    ")\n",
    "\n",
    "from datetime import datetime, timedelta"
   ]
  },
  {
   "cell_type": "code",
   "execution_count": 0,
   "metadata": {
    "application/vnd.databricks.v1+cell": {
     "cellMetadata": {
      "byteLimit": 2048000,
      "rowLimit": 10000
     },
     "inputWidgets": {},
     "nuid": "6a093fe1-7fce-4773-8d05-4c4377833c94",
     "showTitle": false,
     "tableResultSettingsMap": {},
     "title": ""
    }
   },
   "outputs": [],
   "source": [
    "df_raw = spark.table(f'{catalog}.{bronze_db}.{trans_tbl}')\n",
    "# DBTITLE 1\n"
   ]
  },
  {
   "cell_type": "code",
   "execution_count": 0,
   "metadata": {
    "application/vnd.databricks.v1+cell": {
     "cellMetadata": {
      "byteLimit": 2048000,
      "rowLimit": 10000
     },
     "inputWidgets": {},
     "nuid": "f5a1cb1d-d7b1-4545-8cc6-9d2abca4da3e",
     "showTitle": false,
     "tableResultSettingsMap": {},
     "title": ""
    }
   },
   "outputs": [],
   "source": [
    "df_raw.count()"
   ]
  },
  {
   "cell_type": "markdown",
   "metadata": {
    "application/vnd.databricks.v1+cell": {
     "cellMetadata": {
      "byteLimit": 2048000,
      "rowLimit": 10000
     },
     "inputWidgets": {},
     "nuid": "e253cb30-a632-4578-817f-13f60d1b1b3a",
     "showTitle": false,
     "tableResultSettingsMap": {},
     "title": ""
    }
   },
   "source": [
    "- Convert `Transaction_Date`, `DOB`, `Expiry_Date` to DATE\n",
    "- Filter out records:\n",
    "  - `DOB` must be in the past: `datediff(current_date(), DOB) > 0`\n",
    "  - `Expiry_Date` must be in the future: `datediff(Expiry_Date, current_date()) > 0`"
   ]
  },
  {
   "cell_type": "code",
   "execution_count": 0,
   "metadata": {
    "application/vnd.databricks.v1+cell": {
     "cellMetadata": {
      "byteLimit": 2048000,
      "rowLimit": 10000
     },
     "inputWidgets": {},
     "nuid": "d83ed014-ffaa-420c-badc-1976f4cf55ab",
     "showTitle": false,
     "tableResultSettingsMap": {},
     "title": ""
    }
   },
   "outputs": [],
   "source": [
    "df = df_raw.withColumn(\"DOB\", to_date(col(\"DOB\"), \"yyyy-MM-dd\")) \\\n",
    "           .withColumn(\"Transaction_Date\", to_date(col(\"Transaction_Date\"), \"yyyy-MM-dd\")) \\\n",
    "           .withColumn(\"Expiry_Date\", to_date(col(\"Expiry_Date\"), \"yyyy-MM-dd\")) \\\n",
    "           .filter((datediff(current_date(), col(\"DOB\")) > 0) &\n",
    "                   (datediff(col(\"Expiry_Date\"), current_date()) > 0))"
   ]
  },
  {
   "cell_type": "markdown",
   "metadata": {
    "application/vnd.databricks.v1+cell": {
     "cellMetadata": {
      "byteLimit": 2048000,
      "rowLimit": 10000
     },
     "inputWidgets": {},
     "nuid": "eab6612d-30ee-4614-9ccd-76511d28d051",
     "showTitle": false,
     "tableResultSettingsMap": {},
     "title": ""
    }
   },
   "source": [
    "- For fields like `Customer_Name`, `Merchant_Name`, `City`, `State`, `Country`, `Issuer_Bank`:\n",
    "  - Remove non-alphabetic characters\n",
    "  - Trim whitespace\n",
    "  - Apply InitCap() (title case)\n",
    "- Remove rows with missing values in the columns: `Transaction_ID`, `Customer_ID`, and `Card_ID`\n",
    "- Remove duplicate rows based on the `Transaction_ID` column, keeping the first occurrence"
   ]
  },
  {
   "cell_type": "code",
   "execution_count": 0,
   "metadata": {
    "application/vnd.databricks.v1+cell": {
     "cellMetadata": {
      "byteLimit": 2048000,
      "rowLimit": 10000
     },
     "inputWidgets": {},
     "nuid": "4458e8ec-8efd-4055-8e73-6cdc701f8394",
     "showTitle": false,
     "tableResultSettingsMap": {},
     "title": ""
    }
   },
   "outputs": [],
   "source": [
    "df.display()\n",
    "\n",
    "print(\"After applying filter, count is : \",df.count())\n"
   ]
  },
  {
   "cell_type": "markdown",
   "metadata": {
    "application/vnd.databricks.v1+cell": {
     "cellMetadata": {
      "byteLimit": 2048000,
      "rowLimit": 10000
     },
     "inputWidgets": {},
     "nuid": "e2363c22-c971-498a-9fc3-ab4490639545",
     "showTitle": false,
     "tableResultSettingsMap": {},
     "title": ""
    }
   },
   "source": [
    "- For fields like `Customer_Name`, `Merchant_Name`, `City`, `State`, `Country`, `Issuer_Bank`:\n",
    "  - Remove non-alphabetic characters\n",
    "  - Trim whitespace\n",
    "  - Apply InitCap() (title case)\n",
    "- Remove rows with missing values in the columns: `Transaction_ID`, `Customer_ID`, and `Card_ID`\n",
    "- Remove duplicate rows based on the `Transaction_ID` column, keeping the first occurrence"
   ]
  },
  {
   "cell_type": "code",
   "execution_count": 0,
   "metadata": {
    "application/vnd.databricks.v1+cell": {
     "cellMetadata": {
      "byteLimit": 2048000,
      "rowLimit": 10000
     },
     "inputWidgets": {},
     "nuid": "fe5a9885-7926-4d26-b26f-12b1969e4dc5",
     "showTitle": false,
     "tableResultSettingsMap": {},
     "title": ""
    }
   },
   "outputs": [],
   "source": [
    "text_fields = [\n",
    "    \"Customer_Name\", \"Merchant_Name\", \"Customer_City\", \"City\", \"State\",\n",
    "    \"Country\", \"Merchant_Country\", \"Issuer_Bank\", \"Card_Type\"\n",
    "]\n",
    "\n",
    "for f in text_fields:\n",
    "    df = df.withColumn(f,\n",
    "            initcap(trim(regexp_replace(col(f), r\"[^a-zA-Z\\\\s]\", \"\"))))\n",
    "\n",
    "df.display()\n",
    "print(df.count())"
   ]
  },
  {
   "cell_type": "markdown",
   "metadata": {
    "application/vnd.databricks.v1+cell": {
     "cellMetadata": {
      "byteLimit": 2048000,
      "rowLimit": 10000
     },
     "inputWidgets": {},
     "nuid": "f2f82d84-57c5-47e2-a730-f5762f23b6e6",
     "showTitle": false,
     "tableResultSettingsMap": {},
     "title": ""
    }
   },
   "source": [
    "> ####**Clean `Gender`:**  \n",
    "> - Normalize variants (e.g., `\"M\"`, `\"MALE\"` → `\"MALE\"`; `\"F\"`, `\"FEMALE\"` → `\"FEMALE\"`)  \n",
    "> - Trim whitespace"
   ]
  },
  {
   "cell_type": "code",
   "execution_count": 0,
   "metadata": {
    "application/vnd.databricks.v1+cell": {
     "cellMetadata": {
      "byteLimit": 2048000,
      "rowLimit": 10000
     },
     "inputWidgets": {},
     "nuid": "68e4e613-b411-406c-83c6-b8f7b310a52e",
     "showTitle": false,
     "tableResultSettingsMap": {},
     "title": ""
    }
   },
   "outputs": [],
   "source": [
    "from pyspark.sql.functions import col, upper, trim, when, lit\n",
    "\n",
    "df = df.withColumn(\n",
    "    \"Gender\",\n",
    "    when(upper(trim(col(\"Gender\"))) == \"M\", upper(trim(lit(\"Male\"))))\n",
    "    .when(upper(trim(col(\"Gender\"))) == \"F\", upper(trim(lit(\"Female\"))))\n",
    "    .otherwise(upper(trim(lit(\"Other\"))))\n",
    ")\n"
   ]
  },
  {
   "cell_type": "markdown",
   "metadata": {
    "application/vnd.databricks.v1+cell": {
     "cellMetadata": {
      "byteLimit": 2048000,
      "rowLimit": 10000
     },
     "inputWidgets": {},
     "nuid": "5eca755d-f3ee-4843-b1ec-a1b714286a5d",
     "showTitle": false,
     "tableResultSettingsMap": {},
     "title": ""
    }
   },
   "source": [
    "- `dropna(subset=[...])`\n",
    "  - Removes rows where any of the columns `Transaction_ID`, `Customer_ID`, or `Card_ID` have a missing (NaN) value.\n",
    "  - Only these columns are checked; other columns may still contain NaNs.\n",
    "\n",
    "- `drop_duplicates([\"Transaction_ID\"])`\n",
    "  - After removing missing values, removes duplicate rows based on the `Transaction_ID` column.\n",
    "  - If multiple rows share the same `Transaction_ID`, only the first occurrence is kept."
   ]
  },
  {
   "cell_type": "code",
   "execution_count": 0,
   "metadata": {
    "application/vnd.databricks.v1+cell": {
     "cellMetadata": {
      "byteLimit": 2048000,
      "rowLimit": 10000
     },
     "inputWidgets": {},
     "nuid": "5042fb96-8430-425e-8558-d1f8ff5365cd",
     "showTitle": false,
     "tableResultSettingsMap": {},
     "title": ""
    }
   },
   "outputs": [],
   "source": [
    "df = df.dropna(subset=[\"Transaction_ID\", \"Customer_ID\", \"Card_ID\"]) \\\n",
    "           .drop_duplicates([\"Transaction_ID\"])"
   ]
  },
  {
   "cell_type": "markdown",
   "metadata": {
    "application/vnd.databricks.v1+cell": {
     "cellMetadata": {
      "byteLimit": 2048000,
      "rowLimit": 10000
     },
     "inputWidgets": {},
     "nuid": "7d37aac2-bb0e-489c-a640-b40b4ad0a4a0",
     "showTitle": false,
     "tableResultSettingsMap": {},
     "title": ""
    }
   },
   "source": [
    "- Clean `Card_Tier`:\n",
    "  - Trim whitespace\n",
    "  - Convert to UPPERCASE"
   ]
  },
  {
   "cell_type": "code",
   "execution_count": 0,
   "metadata": {
    "application/vnd.databricks.v1+cell": {
     "cellMetadata": {
      "byteLimit": 2048000,
      "rowLimit": 10000
     },
     "inputWidgets": {},
     "nuid": "2a89cd8c-44f8-4429-af96-59b137998bec",
     "showTitle": false,
     "tableResultSettingsMap": {},
     "title": ""
    }
   },
   "outputs": [],
   "source": [
    "#Sample data from card_tier column:\n",
    "df.select(col(\"Card_Tier\")).show(5)"
   ]
  },
  {
   "cell_type": "code",
   "execution_count": 0,
   "metadata": {
    "application/vnd.databricks.v1+cell": {
     "cellMetadata": {
      "byteLimit": 2048000,
      "rowLimit": 10000
     },
     "inputWidgets": {},
     "nuid": "b1540c60-c347-4fbf-9fab-92ac17d2c38c",
     "showTitle": false,
     "tableResultSettingsMap": {},
     "title": ""
    }
   },
   "outputs": [],
   "source": [
    "df = df.withColumn(\"Card_Tier\", upper(trim(col(\"Card_Tier\"))))"
   ]
  },
  {
   "cell_type": "markdown",
   "metadata": {
    "application/vnd.databricks.v1+cell": {
     "cellMetadata": {
      "byteLimit": 2048000,
      "rowLimit": 10000
     },
     "inputWidgets": {},
     "nuid": "e8f90318-3fd8-489b-8020-10a0d1637e49",
     "showTitle": false,
     "tableResultSettingsMap": {},
     "title": ""
    }
   },
   "source": [
    "- Clean `Email`:\n",
    "  - Regex match: `^[\\w\\.-]+@[\\w\\.-]+\\.\\w+$`\n",
    "    - If valid → lowercased, trimmed\n",
    "    - If invalid → set to NULL"
   ]
  },
  {
   "cell_type": "code",
   "execution_count": 0,
   "metadata": {
    "application/vnd.databricks.v1+cell": {
     "cellMetadata": {
      "byteLimit": 2048000,
      "rowLimit": 10000
     },
     "inputWidgets": {},
     "nuid": "c90e1bc7-79ff-47f5-bf73-3d1d367d62e6",
     "showTitle": false,
     "tableResultSettingsMap": {},
     "title": ""
    }
   },
   "outputs": [],
   "source": [
    "df = df.withColumn(\n",
    "        \"Email\",\n",
    "        when(col(\"Email\").rlike(r\"^[\\w\\.-]+@[\\w\\.-]+\\.\\w+$\"), lower(trim(col(\"Email\"))))\n",
    "        .otherwise(lit(None)))"
   ]
  },
  {
   "cell_type": "markdown",
   "metadata": {
    "application/vnd.databricks.v1+cell": {
     "cellMetadata": {
      "byteLimit": 2048000,
      "rowLimit": 10000
     },
     "inputWidgets": {},
     "nuid": "edc54051-79b9-4933-8b3a-9d057b1bd81a",
     "showTitle": false,
     "tableResultSettingsMap": {},
     "title": ""
    }
   },
   "source": [
    "\n",
    "- If `Customer_Name` is NULL and `Email` is valid:\n",
    "  - Extract string before `@` and use as name\n",
    "  - Else retain original value"
   ]
  },
  {
   "cell_type": "code",
   "execution_count": 0,
   "metadata": {
    "application/vnd.databricks.v1+cell": {
     "cellMetadata": {
      "byteLimit": 2048000,
      "rowLimit": 10000
     },
     "inputWidgets": {},
     "nuid": "e2699d00-e9f6-435b-8fcf-313ce3a5c7c1",
     "showTitle": false,
     "tableResultSettingsMap": {},
     "title": ""
    }
   },
   "outputs": [],
   "source": [
    "print(\"Null count: \", df.select(\"Customer_Name\").filter(col(\"Customer_Name\").isNull()).count())\n",
    "\n",
    "df.select(\"Customer_Name\",\"Email\").filter(col(\"Customer_Name\").isNull()).show()\n"
   ]
  },
  {
   "cell_type": "code",
   "execution_count": 0,
   "metadata": {
    "application/vnd.databricks.v1+cell": {
     "cellMetadata": {
      "byteLimit": 2048000,
      "rowLimit": 10000
     },
     "inputWidgets": {},
     "nuid": "62033277-53f3-4ac9-8c7d-d08fc774695a",
     "showTitle": false,
     "tableResultSettingsMap": {},
     "title": ""
    }
   },
   "outputs": [],
   "source": [
    "df = df.withColumn(\n",
    "    \"Customer_Name\",\n",
    "    when(col(\"Customer_Name\").isNull(),\n",
    "         regexp_extract(col(\"Email\"), r\"^([^@]+)\", 1))\n",
    "    .otherwise(col(\"Customer_Name\"))\n",
    ")"
   ]
  },
  {
   "cell_type": "markdown",
   "metadata": {
    "application/vnd.databricks.v1+cell": {
     "cellMetadata": {
      "byteLimit": 2048000,
      "rowLimit": 10000
     },
     "inputWidgets": {},
     "nuid": "455d11bf-c349-4853-9b7a-a03e629a78c6",
     "showTitle": false,
     "tableResultSettingsMap": {},
     "title": ""
    }
   },
   "source": [
    "- Clean `Phone_Number`:\n",
    "  - Keep only digits\n",
    "  - Must be exactly 10 digits\n",
    "    - If valid → retain\n",
    "    - If invalid → set to NULL"
   ]
  },
  {
   "cell_type": "code",
   "execution_count": 0,
   "metadata": {
    "application/vnd.databricks.v1+cell": {
     "cellMetadata": {
      "byteLimit": 2048000,
      "rowLimit": 10000
     },
     "inputWidgets": {},
     "nuid": "acec012a-fb95-4f03-8ab0-41bb63faf106",
     "showTitle": false,
     "tableResultSettingsMap": {},
     "title": ""
    }
   },
   "outputs": [],
   "source": [
    "df.filter(length(col(\"Phone\")) > 10).display()\n"
   ]
  },
  {
   "cell_type": "code",
   "execution_count": 0,
   "metadata": {
    "application/vnd.databricks.v1+cell": {
     "cellMetadata": {
      "byteLimit": 2048000,
      "rowLimit": 10000
     },
     "inputWidgets": {},
     "nuid": "f443ae69-fb20-458d-891e-42906f032e92",
     "showTitle": false,
     "tableResultSettingsMap": {},
     "title": ""
    }
   },
   "outputs": [],
   "source": [
    "df = df.withColumn(\n",
    "    \"Phone\",\n",
    "    when((col(\"Phone\").rlike(r\"^\\d{10}$\")), col(\"Phone\"))\n",
    "    .otherwise(lit(None))\n",
    ")\n"
   ]
  },
  {
   "cell_type": "markdown",
   "metadata": {
    "application/vnd.databricks.v1+cell": {
     "cellMetadata": {
      "byteLimit": 2048000,
      "rowLimit": 10000
     },
     "inputWidgets": {},
     "nuid": "f88dfdc9-4827-42aa-8371-f7e85b3dcfa3",
     "showTitle": false,
     "tableResultSettingsMap": {},
     "title": ""
    }
   },
   "source": [
    "- Replace the following placeholder values with NULL:\n",
    "  - “-”, “null”, “unknown”, “N/A”, “na”, “none”, “None”\n",
    "- Applicable fields:\n",
    "  - Customer_Name, Merchant_Name, City, State, Country, Bank, Card_Tier, Transaction_Status, Transaction_Type, Email, Phone"
   ]
  },
  {
   "cell_type": "code",
   "execution_count": 0,
   "metadata": {
    "application/vnd.databricks.v1+cell": {
     "cellMetadata": {
      "byteLimit": 2048000,
      "rowLimit": 10000
     },
     "inputWidgets": {},
     "nuid": "8b232823-5217-4cea-912f-233b647e4dd1",
     "showTitle": false,
     "tableResultSettingsMap": {},
     "title": ""
    }
   },
   "outputs": [],
   "source": [
    "placeholders = [\"-\", \"null\", \"unknown\", \"N/A\", \"na\", \"none\", \"None\"]\n",
    "string_cols = [\n",
    "    \"Customer_Name\", \"Merchant_Name\", \"Customer_City\", \"City\", \"State\",\n",
    "    \"Country\", \"Merchant_Country\", \"Issuer_Bank\", \"Card_Type\",\n",
    "    \"Transaction_Status\", \"Transaction_Type\", \"Email\", \"Phone\"\n",
    "]\n",
    "\n",
    "for f in string_cols:\n",
    "    df = df.withColumn(\n",
    "            f,\n",
    "            when(col(f).isin(placeholders), lit(None)).otherwise(col(f))\n",
    "        )"
   ]
  },
  {
   "cell_type": "markdown",
   "metadata": {
    "application/vnd.databricks.v1+cell": {
     "cellMetadata": {
      "byteLimit": 2048000,
      "rowLimit": 10000
     },
     "inputWidgets": {},
     "nuid": "10d9174a-5653-4ae6-88bd-cdd1f001ed1f",
     "showTitle": false,
     "tableResultSettingsMap": {},
     "title": ""
    }
   },
   "source": [
    "- Correct known typos:\n",
    "  - \"Tmil Nadu\" → \"Tamil Nadu\" in State\n",
    "  - \"Inda\" → \"India\" in Country"
   ]
  },
  {
   "cell_type": "code",
   "execution_count": 0,
   "metadata": {
    "application/vnd.databricks.v1+cell": {
     "cellMetadata": {
      "byteLimit": 2048000,
      "rowLimit": 10000
     },
     "inputWidgets": {},
     "nuid": "116a927c-1939-484f-8348-c25071d53398",
     "showTitle": false,
     "tableResultSettingsMap": {},
     "title": ""
    }
   },
   "outputs": [],
   "source": [
    "df = (df\n",
    "      .withColumn(\"State\",   regexp_replace(col(\"State\"),   \"Tmil Nadu\", \"Tamil Nadu\"))\n",
    "      .withColumn(\"Country\", regexp_replace(col(\"Country\"), \"Inda\",      \"India\")))"
   ]
  },
  {
   "cell_type": "markdown",
   "metadata": {
    "application/vnd.databricks.v1+cell": {
     "cellMetadata": {
      "byteLimit": 2048000,
      "rowLimit": 10000
     },
     "inputWidgets": {},
     "nuid": "b710fdb7-d212-44a8-936e-cb35be54d8e7",
     "showTitle": false,
     "tableResultSettingsMap": {},
     "title": ""
    }
   },
   "source": [
    "- Add `Is_Valid_Record` column:\n",
    "  - True if all conditions are met:\n",
    "    - `Transaction_Amount` > 0\n",
    "    - `DOB` < current_date()\n",
    "    - `Expiry_Date` > current_date()\n",
    "  - Otherwise, False"
   ]
  },
  {
   "cell_type": "code",
   "execution_count": 0,
   "metadata": {
    "application/vnd.databricks.v1+cell": {
     "cellMetadata": {
      "byteLimit": 2048000,
      "rowLimit": 10000
     },
     "inputWidgets": {},
     "nuid": "e3519c90-5615-44b6-a16e-6c3113f1dbf6",
     "showTitle": false,
     "tableResultSettingsMap": {},
     "title": ""
    }
   },
   "outputs": [],
   "source": [
    "\n",
    "\n",
    "df = df.withColumn(\n",
    "    \"Is_Valid_Record\",\n",
    "    when(\n",
    "        (col(\"Transaction_Amount\") > 0) &\n",
    "        (datediff(current_date(), col(\"DOB\")) > 0) &             # DOB must be in the past\n",
    "        (datediff(col(\"Expiry_Date\"), current_date()) > 0),   # Expiry date must be in the future\n",
    "        lit(True)\n",
    "    ).otherwise(lit(False))\n",
    ")\n"
   ]
  },
  {
   "cell_type": "code",
   "execution_count": 0,
   "metadata": {
    "application/vnd.databricks.v1+cell": {
     "cellMetadata": {
      "byteLimit": 2048000,
      "rowLimit": 10000
     },
     "inputWidgets": {},
     "nuid": "1d2af171-a147-47f4-a6c4-78a2071fee61",
     "showTitle": false,
     "tableResultSettingsMap": {},
     "title": ""
    }
   },
   "outputs": [],
   "source": [
    "df.display()"
   ]
  },
  {
   "cell_type": "markdown",
   "metadata": {
    "application/vnd.databricks.v1+cell": {
     "cellMetadata": {
      "byteLimit": 2048000,
      "rowLimit": 10000
     },
     "inputWidgets": {},
     "nuid": "308d606e-bfcb-42f6-9286-c198234010e1",
     "showTitle": false,
     "tableResultSettingsMap": {},
     "title": ""
    }
   },
   "source": [
    "- Add `Invalid_Reason` column with priority:\n",
    "  - If `Transaction_Amount` <= 0 → \"Invalid Transaction Amount\"\n",
    "  - Else if `DOB` >= current_date() → \"Future DOB\"\n",
    "  - Else if `Expiry_Date` <= current_date() → \"Card Expired\"\n",
    "  - Else NULL"
   ]
  },
  {
   "cell_type": "code",
   "execution_count": 0,
   "metadata": {
    "application/vnd.databricks.v1+cell": {
     "cellMetadata": {
      "byteLimit": 2048000,
      "rowLimit": 10000
     },
     "inputWidgets": {},
     "nuid": "3d240735-7d5a-4487-a459-84454cce580f",
     "showTitle": false,
     "tableResultSettingsMap": {},
     "title": ""
    }
   },
   "outputs": [],
   "source": [
    "# 2. Add Invalid_Reason\n",
    "df = df.withColumn(\n",
    "    \"Invalid_Reason\",\n",
    "    when(col(\"Transaction_Amount\") <= 0, lit(\"Invalid Transaction Amount\"))\n",
    "    .when(datediff(current_date(), col(\"DOB\")) <= 0, lit(\"Future DOB\"))\n",
    "    .when(datediff(col(\"Expiry_Date\"), current_date()) <= 0, lit(\"Card Expired\"))\n",
    "    .otherwise(lit(None))\n",
    ")"
   ]
  },
  {
   "cell_type": "markdown",
   "metadata": {
    "application/vnd.databricks.v1+cell": {
     "cellMetadata": {
      "byteLimit": 2048000,
      "rowLimit": 10000
     },
     "inputWidgets": {},
     "nuid": "c48d8372-e701-47b8-8a00-8e0c710894e2",
     "showTitle": false,
     "tableResultSettingsMap": {},
     "title": ""
    }
   },
   "source": [
    "city_state_map = `{\n",
    "    \"Bangalore\"  : (\"Karnataka\",       \"L1001\"),\n",
    "    \"Mumbai\"     : (\"Maharashtra\",     \"L1002\"),\n",
    "    \"Chennai\"    : (\"Tamil Nadu\",      \"L1003\"),\n",
    "    \"Delhi\"      : (\"Delhi\",           \"L1004\"),\n",
    "    \"Kolkata\"    : (\"West Bengal\",     \"L1005\"),\n",
    "    \"Hyderabad\"  : (\"Telangana\",       \"L1006\"),\n",
    "    \"Lucknow\"    : (\"Uttar Pradesh\",   \"L1007\"),\n",
    "    \"Ahmedabad\"  : (\"Gujarat\",         \"L1008\"),\n",
    "    \"Chandigarh\" : (\"Punjab\",          \"L1009\"),\n",
    "    \"Kochi\"      : (\"Kerala\",          \"L1010\"),\n",
    "}`\n",
    "- Normalize City and State to title case (trimmed)\n",
    "- Use reference mapping (`city_state_map`) to:\n",
    "  - Force correct State for known cities\n",
    "  - Enrich with `Location_ID`\n",
    "- Default `Location_ID` = 'L9999' if no match found"
   ]
  },
  {
   "cell_type": "code",
   "execution_count": 0,
   "metadata": {
    "application/vnd.databricks.v1+cell": {
     "cellMetadata": {
      "byteLimit": 2048000,
      "rowLimit": 10000
     },
     "inputWidgets": {},
     "nuid": "e21dadac-a482-4e3e-a3f4-c61607f4fac3",
     "showTitle": false,
     "tableResultSettingsMap": {},
     "title": ""
    }
   },
   "outputs": [],
   "source": [
    "from pyspark.sql.functions import col, when, lit, trim, initcap\n",
    "\n",
    "def apply_city_state(df, mapping):\n",
    "    df_out = df\n",
    "    for city, (state, loc) in mapping.items():\n",
    "        df_out = df_out.withColumn(\n",
    "            \"State\",\n",
    "            when(col(\"City\") == city, lit(state)).otherwise(col(\"State\"))\n",
    "        ).withColumn(\n",
    "            \"Location_ID\",\n",
    "            when((col(\"City\") == city) & (col(\"State\") == state), lit(loc)).otherwise(col(\"Location_ID\"))\n",
    "        )\n",
    "    df_out = df_out.fillna({\"Location_ID\": \"L9999\"})\n",
    "    return df_out\n",
    "\n",
    "# Example usage and explanation\n",
    "city_state_map = {\n",
    "    \"Bangalore\"  : (\"Karnataka\",       \"L1001\"),\n",
    "    \"Mumbai\"     : (\"Maharashtra\",     \"L1002\"),\n",
    "    \"Chennai\"    : (\"Tamil Nadu\",      \"L1003\"),\n",
    "    \"Delhi\"      : (\"Delhi\",           \"L1004\"),\n",
    "    \"Kolkata\"    : (\"West Bengal\",     \"L1005\"),\n",
    "    \"Hyderabad\"  : (\"Telangana\",       \"L1006\"),\n",
    "    \"Lucknow\"    : (\"Uttar Pradesh\",   \"L1007\"),\n",
    "    \"Ahmedabad\"  : (\"Gujarat\",         \"L1008\"),\n",
    "    \"Chandigarh\" : (\"Punjab\",          \"L1009\"),\n",
    "    \"Kochi\"      : (\"Kerala\",          \"L1010\"),\n",
    "}\n",
    "\n",
    "# Suppose df is already defined and cleaned as in previous cells\n",
    "df_result = apply_city_state(df, city_state_map)\n",
    "\n",
    "# Show the result to verify the function works as expected\n",
    "# display(df_result)\n",
    "\n",
    "# Explain: The function iterates over the mapping, updating 'State' and 'Location_ID' columns based on city matches.\n",
    "# If a city matches, its state is set; if both city and state match, the location_id is set.\n",
    "# Any missing location_id is filled with 'L9999'."
   ]
  },
  {
   "cell_type": "code",
   "execution_count": 0,
   "metadata": {
    "application/vnd.databricks.v1+cell": {
     "cellMetadata": {
      "byteLimit": 2048000,
      "rowLimit": 10000
     },
     "inputWidgets": {},
     "nuid": "b0af87a5-2a63-400a-bb5a-1d184f5c4840",
     "showTitle": false,
     "tableResultSettingsMap": {},
     "title": ""
    }
   },
   "outputs": [],
   "source": [
    "display(df_result)\n"
   ]
  },
  {
   "cell_type": "markdown",
   "metadata": {
    "application/vnd.databricks.v1+cell": {
     "cellMetadata": {
      "byteLimit": 2048000,
      "rowLimit": 10000
     },
     "inputWidgets": {},
     "nuid": "9cbeccd8-2e37-4cc2-9905-d829841c0401",
     "showTitle": false,
     "tableResultSettingsMap": {},
     "title": ""
    }
   },
   "source": [
    "\n",
    "- Normalize `Transaction_Status` values (case-insensitive):\n",
    "  - \"sucsess\", \"success\" → **Success**\n",
    "  - \"fail\", \"failed\" → **Failed**\n",
    "  - \"fraudulent\" → **Fraudulent**\n",
    "  - Others → **Unknown**\n",
    "\n",
    "- Normalize `Transaction_Type` values (case-insensitive):\n",
    "  - \"atm\" → **ATM**\n",
    "  - \"pos\" → **POS**\n",
    "  - \"online\", \"onlne\" → **ONLINE**\n",
    "  - Others → **UNKNOWN**"
   ]
  },
  {
   "cell_type": "code",
   "execution_count": 0,
   "metadata": {
    "application/vnd.databricks.v1+cell": {
     "cellMetadata": {
      "byteLimit": 2048000,
      "rowLimit": 10000
     },
     "inputWidgets": {},
     "nuid": "d728f371-a715-4a2c-b774-6136718a2e5c",
     "showTitle": false,
     "tableResultSettingsMap": {},
     "title": ""
    }
   },
   "outputs": [],
   "source": [
    "df = df.withColumn(\n",
    "    \"Transaction_Status\",\n",
    "    when(lower(trim(col(\"Transaction_Status\"))).isin(\"sucsess\", \"success\"),    lit(\"Success\"))\n",
    "    .when(lower(trim(col(\"Transaction_Status\"))).isin(\"fail\",  \"faild\"  \"failed\"),    lit(\"Failed\"))\n",
    "    .when(lower(trim(col(\"Transaction_Status\")))== \"fraudulent\",               lit(\"Fraudulent\"))\n",
    "    .otherwise(lit(\"Unknown\"))\n",
    ")\n",
    "\n",
    "df = df.withColumn(\n",
    "    \"Transaction_Type\",\n",
    "    when(lower(trim(col(\"Transaction_Type\"))) == \"atm\",     lit(\"ATM\"))\n",
    "    .when(lower(trim(col(\"Transaction_Type\"))) == \"pos\",     lit(\"POS\"))\n",
    "    .when(lower(trim(col(\"Transaction_Type\"))).isin(\"online\",\"onlne\"), lit(\"ONLINE\"))\n",
    "    .otherwise(lit(\"UNKNOWN\"))\n",
    ")"
   ]
  },
  {
   "cell_type": "code",
   "execution_count": 0,
   "metadata": {
    "application/vnd.databricks.v1+cell": {
     "cellMetadata": {
      "byteLimit": 2048000,
      "rowLimit": 10000
     },
     "inputWidgets": {},
     "nuid": "d152b13d-d7e4-4ed7-9b61-ee3c9628d461",
     "showTitle": false,
     "tableResultSettingsMap": {},
     "title": ""
    }
   },
   "outputs": [],
   "source": [
    "# 4. Column order as per target table\n",
    "target_cols = [\n",
    "    \"Transaction_ID\", \"Customer_ID\", \"Card_ID\", \"Merchant_ID\", \"Location_ID\",\n",
    "    \"Transaction_Date\", \"DOB\", \"Expiry_Date\",\n",
    "    \"Customer_Name\", \"Gender\", \"Email\", \"Phone\", \"Customer_City\",\n",
    "    \"Card_Type\", \"Issuer_Bank\", \"Card_Tier\",\n",
    "     \"Transaction_Status\", \"Transaction_Type\", \"Transaction_Amount\",\n",
    "    \"Merchant_Name\", \"Merchant_Category\", \"Merchant_Country\",\n",
    "    \"City\", \"State\", \"Country\"\n",
    "]\n",
    "df_final = df.select([col(c) for c in target_cols])"
   ]
  },
  {
   "cell_type": "code",
   "execution_count": 0,
   "metadata": {
    "application/vnd.databricks.v1+cell": {
     "cellMetadata": {
      "byteLimit": 2048000,
      "rowLimit": 10000
     },
     "inputWidgets": {},
     "nuid": "99fa9ea6-00a1-4055-a0cd-12b15d746e23",
     "showTitle": false,
     "tableResultSettingsMap": {},
     "title": ""
    }
   },
   "outputs": [],
   "source": [
    "# Write to Silver Delta table (overwrite)\n",
    "df_final.write.format(\"delta\") \\\n",
    "    .mode(\"overwrite\") \\\n",
    "    .saveAsTable(f\"{catalog}.{silver_db}.{cleaned_tbl}\")"
   ]
  },
  {
   "cell_type": "code",
   "execution_count": 0,
   "metadata": {
    "application/vnd.databricks.v1+cell": {
     "cellMetadata": {
      "byteLimit": 2048000,
      "implicitDf": true,
      "rowLimit": 10000
     },
     "inputWidgets": {},
     "nuid": "0d25fbd4-b158-4498-872b-e88df67ce796",
     "showTitle": false,
     "tableResultSettingsMap": {},
     "title": ""
    }
   },
   "outputs": [],
   "source": [
    "%sql\n",
    "select * from dev.db1_silver.clean_transactions limit 10;"
   ]
  }
 ],
 "metadata": {
  "application/vnd.databricks.v1+notebook": {
   "computePreferences": {
    "hardware": {
     "accelerator": null,
     "gpuPoolId": null,
     "memory": null
    }
   },
   "dashboards": [],
   "environmentMetadata": {
    "base_environment": "",
    "environment_version": "2"
   },
   "inputWidgetPreferences": null,
   "language": "python",
   "notebookMetadata": {
    "mostRecentlyExecutedCommandWithImplicitDF": {
     "commandId": 4543889537808267,
     "dataframes": [
      "_sqldf"
     ]
    },
    "pythonIndentUnit": 4
   },
   "notebookName": "02-bronze_to_silver_cleansing",
   "widgets": {}
  },
  "language_info": {
   "name": "python"
  }
 },
 "nbformat": 4,
 "nbformat_minor": 0
}
