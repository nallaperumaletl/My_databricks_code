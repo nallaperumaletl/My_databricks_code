{
 "cells": [
  {
   "cell_type": "markdown",
   "metadata": {
    "application/vnd.databricks.v1+cell": {
     "cellMetadata": {},
     "inputWidgets": {},
     "nuid": "b7087154-f050-4f78-ae85-ed38b498206a",
     "showTitle": false,
     "tableResultSettingsMap": {},
     "title": ""
    }
   },
   "source": [
    "# ETL Tutorial\n",
    "\n",
    "This ETL Tutorial is a YouTube video tutorial for the Databricks ETL Pipeline.\n",
    "\n",
    "### [Watch here](https://www.youtube.com/watch?v=FFJ7unnBuUA&list=WL&index=4&t=4434s&ab_channel=KSRDatavizon)\n"
   ]
  },
  {
   "cell_type": "code",
   "execution_count": 0,
   "metadata": {
    "application/vnd.databricks.v1+cell": {
     "cellMetadata": {
      "byteLimit": 2048000,
      "implicitDf": true,
      "rowLimit": 10000
     },
     "inputWidgets": {},
     "nuid": "eba93f99-0ffe-4181-9a0d-85ae9a0ec955",
     "showTitle": false,
     "tableResultSettingsMap": {},
     "title": ""
    }
   },
   "outputs": [],
   "source": [
    "%sql\n",
    "\n",
    "-- CREATE CATALOG IF NOT EXISTS dev;\n",
    "-- COMMENT 'Raw ingestion layer for transactions project';"
   ]
  },
  {
   "cell_type": "code",
   "execution_count": 0,
   "metadata": {
    "application/vnd.databricks.v1+cell": {
     "cellMetadata": {
      "byteLimit": 2048000,
      "implicitDf": true,
      "rowLimit": 10000
     },
     "inputWidgets": {},
     "nuid": "74d6b821-c3c8-4e73-a84b-79f15b97c230",
     "showTitle": false,
     "tableResultSettingsMap": {},
     "title": ""
    }
   },
   "outputs": [],
   "source": [
    "%sql\n",
    "CREATE SCHEMA IF NOT EXISTS dev.DB1_source_raw \n",
    "COMMENT 'Raw ingestion layer for transactions project';\n",
    "\n",
    "CREATE SCHEMA IF NOT EXISTS dev.DB1_bronze_raw \n",
    "COMMENT 'Raw ingestion layer for transactions project';\n",
    "\n",
    "CREATE SCHEMA IF NOT EXISTS dev.DB1_silver \n",
    "COMMENT 'Cleaned (silver) layer for transactions pipeline';\n",
    "\n",
    "CREATE SCHEMA  IF NOT EXISTS dev.DB1_gold \n",
    "COMMENT 'Star-schema (dim / fact) layer';"
   ]
  },
  {
   "cell_type": "code",
   "execution_count": 0,
   "metadata": {
    "application/vnd.databricks.v1+cell": {
     "cellMetadata": {
      "byteLimit": 2048000,
      "implicitDf": true,
      "rowLimit": 10000
     },
     "inputWidgets": {},
     "nuid": "a8b0ab9f-68c8-4efe-8c07-3c17eef61ef4",
     "showTitle": false,
     "tableResultSettingsMap": {},
     "title": ""
    }
   },
   "outputs": [],
   "source": [
    "%sql\n",
    "SHOW CATALOGS;\n"
   ]
  },
  {
   "cell_type": "code",
   "execution_count": 0,
   "metadata": {
    "application/vnd.databricks.v1+cell": {
     "cellMetadata": {
      "byteLimit": 2048000,
      "implicitDf": true,
      "rowLimit": 10000
     },
     "inputWidgets": {},
     "nuid": "f16ace3f-dec9-4004-9ca8-c8cfc7ad5b98",
     "showTitle": false,
     "tableResultSettingsMap": {},
     "title": ""
    }
   },
   "outputs": [],
   "source": [
    "%sql\n",
    "CREATE VOLUME dev.db1_source_raw.db1_raw_inputs"
   ]
  },
  {
   "cell_type": "code",
   "execution_count": 0,
   "metadata": {
    "application/vnd.databricks.v1+cell": {
     "cellMetadata": {},
     "inputWidgets": {},
     "nuid": "586e6c61-af40-4fd9-b03b-53e915b512fc",
     "showTitle": false,
     "tableResultSettingsMap": {},
     "title": ""
    }
   },
   "outputs": [],
   "source": [
    "%python\n",
    "dbutils.fs.mkdirs('/Volumes/dev/db1_source_raw/db1_raw_inputs/csv_inputs')\n",
    "dbutils.fs.mkdirs('/Volumes/dev/db1_source_raw/db1_raw_inputs/json_inputs')\n",
    "dbutils.fs.mkdirs('/Volumes/dev/db1_source_raw/db1_raw_inputs/parquet_inputs')"
   ]
  }
 ],
 "metadata": {
  "application/vnd.databricks.v1+notebook": {
   "computePreferences": null,
   "dashboards": [],
   "environmentMetadata": {
    "base_environment": "",
    "environment_version": "2"
   },
   "inputWidgetPreferences": null,
   "language": "python",
   "notebookMetadata": {
    "mostRecentlyExecutedCommandWithImplicitDF": {
     "commandId": 8168611653069535,
     "dataframes": [
      "_sqldf"
     ]
    },
    "pythonIndentUnit": 4
   },
   "notebookName": "00_catalog_creation",
   "widgets": {}
  },
  "language_info": {
   "name": "python"
  }
 },
 "nbformat": 4,
 "nbformat_minor": 0
}
